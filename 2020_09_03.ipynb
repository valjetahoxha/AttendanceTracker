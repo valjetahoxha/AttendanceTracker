{
  "nbformat": 4,
  "nbformat_minor": 0,
  "metadata": {
    "colab": {
      "provenance": [],
      "authorship_tag": "ABX9TyN+5sQr+PguvM9xF3OXbjOZ",
      "include_colab_link": true
    },
    "kernelspec": {
      "name": "python3",
      "display_name": "Python 3"
    },
    "language_info": {
      "name": "python"
    }
  },
  "cells": [
    {
      "cell_type": "markdown",
      "metadata": {
        "id": "view-in-github",
        "colab_type": "text"
      },
      "source": [
        "<a href=\"https://colab.research.google.com/github/valjetahoxha/AttendanceTracker/blob/main/2020_09_03.ipynb\" target=\"_parent\"><img src=\"https://colab.research.google.com/assets/colab-badge.svg\" alt=\"Open In Colab\"/></a>"
      ]
    },
    {
      "cell_type": "code",
      "execution_count": 5,
      "metadata": {
        "colab": {
          "base_uri": "https://localhost:8080/"
        },
        "id": "olN_VHAajaWw",
        "outputId": "23a73334-7a24-4669-9169-3c86ae3cf6c9"
      },
      "outputs": [
        {
          "output_type": "stream",
          "name": "stdout",
          "text": [
            "hello word Val\n"
          ]
        }
      ],
      "source": [
        "print(\"hello word\",a)"
      ]
    },
    {
      "cell_type": "code",
      "source": [
        "a=\"Val\"\n",
        "print(\"this is a:\",a)"
      ],
      "metadata": {
        "colab": {
          "base_uri": "https://localhost:8080/"
        },
        "id": "-2OLNODTjoxz",
        "outputId": "3509050f-bf17-4ca1-902a-8f1b3c9d09c6"
      },
      "execution_count": 6,
      "outputs": [
        {
          "output_type": "stream",
          "name": "stdout",
          "text": [
            "this is a: Val\n"
          ]
        }
      ]
    },
    {
      "cell_type": "code",
      "source": [],
      "metadata": {
        "id": "t2qD-eb6j5lg"
      },
      "execution_count": null,
      "outputs": []
    },
    {
      "cell_type": "code",
      "source": [],
      "metadata": {
        "id": "qBMtX_XepIxl"
      },
      "execution_count": null,
      "outputs": []
    },
    {
      "cell_type": "markdown",
      "source": [],
      "metadata": {
        "id": "YfnUAZX7nNxX"
      }
    },
    {
      "cell_type": "markdown",
      "source": [
        "because Jupyter is so cool, we can also input the equation of a straight line here such as :\n",
        "$y=mx+b$"
      ],
      "metadata": {
        "id": "E80uqrTOnCyE"
      }
    },
    {
      "cell_type": "markdown",
      "source": [
        "#Introduction to Google Colab\n",
        "###Using Text and Code Cells\n",
        "\n",
        "- bullet point\n",
        "  - second bullet point\n",
        "  "
      ],
      "metadata": {
        "id": "S6ihrJESmdOL"
      }
    },
    {
      "cell_type": "code",
      "source": [
        "print(\"Hello, Data Science\")"
      ],
      "metadata": {
        "colab": {
          "base_uri": "https://localhost:8080/"
        },
        "id": "pxn7dSFgoQcA",
        "outputId": "fe12ba9c-2045-4921-94b2-a3e2c36106e5"
      },
      "execution_count": 7,
      "outputs": [
        {
          "output_type": "stream",
          "name": "stdout",
          "text": [
            "Hello, Data Science\n"
          ]
        }
      ]
    },
    {
      "cell_type": "code",
      "source": [
        "a=234\n",
        "b=567\n",
        "sum=a+b\n",
        "print(sum)"
      ],
      "metadata": {
        "colab": {
          "base_uri": "https://localhost:8080/"
        },
        "id": "6o07ZIZ0oZxa",
        "outputId": "ec6f0099-ecc6-4b2f-fc0f-d6f97a5f84f3"
      },
      "execution_count": 8,
      "outputs": [
        {
          "output_type": "stream",
          "name": "stdout",
          "text": [
            "801\n"
          ]
        }
      ]
    },
    {
      "cell_type": "markdown",
      "source": [
        "this is just an introductory class- a demonstration of google's colab notebook syntax. If you know laTeX, you can render complicated math formulas like $/int_a^b f(x)\\dx$\n",
        "\n",
        "\n",
        "here is a **bold** world\n"
      ],
      "metadata": {
        "id": "UJRQKjEsk1k0"
      }
    },
    {
      "cell_type": "code",
      "source": [
        "z=23\n",
        "x=47\n",
        "mult=x*z\n",
        "print(mult)"
      ],
      "metadata": {
        "colab": {
          "base_uri": "https://localhost:8080/"
        },
        "id": "9ZXWbHxVoqMV",
        "outputId": "e5edda7a-d283-415b-8e6f-ec750cb2e7bd"
      },
      "execution_count": 9,
      "outputs": [
        {
          "output_type": "stream",
          "name": "stdout",
          "text": [
            "1081\n"
          ]
        }
      ]
    },
    {
      "cell_type": "markdown",
      "source": [],
      "metadata": {
        "id": "zVXcAdyHnBeu"
      }
    },
    {
      "cell_type": "code",
      "source": [
        "y=789\n",
        "c=3\n",
        "div=y/c\n",
        "print(div)"
      ],
      "metadata": {
        "colab": {
          "base_uri": "https://localhost:8080/"
        },
        "id": "HSds4S03lNQX",
        "outputId": "1cbc660a-47fa-4634-c09f-c702a779418b"
      },
      "execution_count": 10,
      "outputs": [
        {
          "output_type": "stream",
          "name": "stdout",
          "text": [
            "263.0\n"
          ]
        }
      ]
    },
    {
      "cell_type": "code",
      "source": [
        "course_name=\"Introduction to Data Science\"\n",
        "students_count=30\n",
        "print(\"Welcome to\",course_name,\"!\" \"We have \", students_count, \"students in this course\")\n",
        "\n"
      ],
      "metadata": {
        "colab": {
          "base_uri": "https://localhost:8080/"
        },
        "id": "d_YRSlY7o6dr",
        "outputId": "acb0b93c-afe9-4be8-9c2c-43db7419e990"
      },
      "execution_count": 31,
      "outputs": [
        {
          "output_type": "stream",
          "name": "stdout",
          "text": [
            "Welcome to Introduction to Data Science !We have  30 students in this course\n"
          ]
        }
      ]
    },
    {
      "cell_type": "markdown",
      "source": [],
      "metadata": {
        "id": "aq36Ht0_pN2o"
      }
    },
    {
      "cell_type": "code",
      "source": [
        "import matplotlib.pyplot as plt\n",
        "\n",
        "x = [1, 2, 3, 4, 5]\n",
        "y = [1, 4, 9, 16, 25]\n",
        "\n",
        "plt.plot(x, y, marker='o')\n",
        "plt.title(\"Simple Line Plot\")\n",
        "plt.xlabel(\"X-axis\")\n",
        "plt.ylabel(\"Y-axis\")\n",
        "plt.show()"
      ],
      "metadata": {
        "colab": {
          "base_uri": "https://localhost:8080/",
          "height": 472
        },
        "id": "9ThBrYkSrKtk",
        "outputId": "3335ec7c-a689-4726-d56e-dc1d37e32f3a"
      },
      "execution_count": 32,
      "outputs": [
        {
          "output_type": "display_data",
          "data": {
            "text/plain": [
              "<Figure size 640x480 with 1 Axes>"
            ],
            "image/png": "[encoded data removed]"
          },
          "metadata": {}
        }
      ]
    },
    {
      "cell_type": "code",
      "source": [],
      "metadata": {
        "id": "v7WwF4zWrQu3"
      },
      "execution_count": null,
      "outputs": []
    },
    {
      "cell_type": "code",
      "source": [
        "import pandas as pd\n",
        "\n",
        "data = {'Name': ['Alice', 'Bob', 'Charlie', 'David', 'Eva'],\n",
        "        'Score': [85, 90, 78, 88, 92]}\n",
        "\n",
        "df = pd.DataFrame(data)\n",
        "print(df)\n",
        "df.sort_values(by=\"Score\", ascending=False, inplace=True)\n",
        "\n",
        "print(df)"
      ],
      "metadata": {
        "colab": {
          "base_uri": "https://localhost:8080/"
        },
        "id": "sECXFV0brQwO",
        "outputId": "cf0e4aec-4b86-4c95-969d-e700f35bf4ce"
      },
      "execution_count": 35,
      "outputs": [
        {
          "output_type": "stream",
          "name": "stdout",
          "text": [
            "      Name  Score\n",
            "0    Alice     85\n",
            "1      Bob     90\n",
            "2  Charlie     78\n",
            "3    David     88\n",
            "4      Eva     92\n",
            "      Name  Score\n",
            "4      Eva     92\n",
            "1      Bob     90\n",
            "3    David     88\n",
            "0    Alice     85\n",
            "2  Charlie     78\n"
          ]
        }
      ]
    },
    {
      "cell_type": "code",
      "source": [],
      "metadata": {
        "id": "Wye-CtR3r_5Y"
      },
      "execution_count": null,
      "outputs": []
    }
  ]
}